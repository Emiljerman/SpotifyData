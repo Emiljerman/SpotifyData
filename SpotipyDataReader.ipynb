{
 "cells": [
  {
   "cell_type": "code",
   "execution_count": null,
   "id": "ea8eab7f-06c4-4154-a944-5bec6ba9cd39",
   "metadata": {},
   "outputs": [],
   "source": [
    "import spotipy\n",
    "import matplotlib.pyplot as plt\n",
    "import json\n",
    "import pprint\n",
    "import numpy as np\n",
    "from datetime import datetime\n",
    "from collections import defaultdict\n",
    "import pandas as pd\n",
    "from sklearn.linear_model import LinearRegression\n",
    "from sklearn.metrics import r2_score\n",
    "from datetime import datetime, timedelta\n",
    "from sklearn import linear_model"
   ]
  },
  {
   "cell_type": "code",
   "execution_count": null,
   "id": "443df42d-0068-41fa-9b97-ce012c5bb90f",
   "metadata": {},
   "outputs": [],
   "source": [
    "from spotipy.oauth2 import SpotifyClientCredentials\n",
    "import os\n",
    "#print(os.environ)\n",
    "\n",
    "with open('spotify_client.json', 'r') as json_file:\n",
    "    client_info = json.load(json_file)\n",
    "client_id = client_info[0]\n",
    "client_secret = client_info[1]\n",
    "auth_manager = SpotifyClientCredentials(client_id, client_secret)\n",
    "sp = spotipy.Spotify(client_credentials_manager=auth_manager)\n",
    "#auth_manager=auth_manager"
   ]
  },
  {
   "cell_type": "code",
   "execution_count": null,
   "id": "017b4ce4-cb62-4fe5-a3d9-495cbcd8b078",
   "metadata": {},
   "outputs": [],
   "source": [
    "json_2018_2020 = open(\"Streaming_History_Audio_2018-2020_0.json\", encoding=\"utf8\")\n",
    "json_2020_2021 = open(\"Streaming_History_Audio_2020-2021_1.json\", encoding=\"utf8\")\n",
    "json_2021_2022 = open(\"Streaming_History_Audio_2021-2022_2.json\", encoding=\"utf8\")\n",
    "json_2022_2023 = open(\"Streaming_History_Audio_2022-2023_3.json\", encoding=\"utf8\")\n",
    "json_2023 = open(\"Streaming_History_Audio_2023_4.json\", encoding=\"utf8\")\n",
    "json_2023_2024 = open(\"Streaming_History_Audio_2023-2024_5.json\",encoding=\"utf8\")\n",
    "\n",
    "hist_2018_2024 = [json.load(json_2018_2020)]\n",
    "hist_2018_2024.append(json.load(json_2020_2021))\n",
    "hist_2018_2024.append(json.load(json_2021_2022))\n",
    "hist_2018_2024.append(json.load(json_2022_2023))\n",
    "hist_2018_2024.append(json.load(json_2023))\n",
    "hist_2018_2024.append(json.load(json_2023_2024))\n",
    "\n",
    "json_2018_2020.close()\n",
    "json_2020_2021.close()\n",
    "json_2021_2022.close()\n",
    "json_2022_2023.close()\n",
    "json_2023.close()\n",
    "json_2023_2024.close()"
   ]
  },
  {
   "cell_type": "code",
   "execution_count": null,
   "id": "ab1091af-068c-421f-9707-78b74cdc1d88",
   "metadata": {
    "scrolled": true
   },
   "outputs": [],
   "source": [
    "uri_ts = []\n",
    "\n",
    "for file in hist_2018_2024:\n",
    "    for song in file:\n",
    "        if song['reason_end'] == 'endplay' or song['reason_end'] == 'fwdbtn' or song['spotify_track_uri'] == None:\n",
    "            continue\n",
    "        uri = song['spotify_track_uri']\n",
    "        ts = song['ts']\n",
    "        uri_ts.append([uri, ts])"
   ]
  },
  {
   "cell_type": "code",
   "execution_count": null,
   "id": "dc5e2d01-9f00-49d0-99c9-47a4260b0089",
   "metadata": {},
   "outputs": [],
   "source": [
    "features_ts = [[]]\n",
    "batch_size = 99\n",
    "# np.shape(uri_ts)[0]\n",
    "for i in range(0, np.shape(uri_ts)[0], batch_size):\n",
    "    features = np.array([sp.audio_features(np.array(uri_ts[i:i+batch_size])[:,0].tolist())])\n",
    "    ts = [np.array(uri_ts[i:i+batch_size])[:,1]]\n",
    "    \n",
    "    features_ts_temp = features\n",
    "    features_ts_temp = np.append(features_ts_temp, ts, axis=0)\n",
    "\n",
    "    features_ts[i:i+batch_size] = features_ts_temp.T\n",
    "    \n",
    "data_to_serialize = [(row[0], row[1]) for row in features_ts]\n",
    "\n",
    "with open('data.json', 'w') as json_file:\n",
    "    json.dump(data_to_serialize, json_file, ensure_ascii=False, indent=4)"
   ]
  },
  {
   "cell_type": "code",
   "execution_count": null,
   "id": "b77ada93-71df-40ec-b3c8-a86bb2654628",
   "metadata": {},
   "outputs": [],
   "source": [
    "\n",
    "with open('data.json', 'r') as json_file:\n",
    "    retrieved_data = json.load(json_file)\n",
    "\n",
    "retrieved_array = np.array(retrieved_data, dtype=object)\n"
   ]
  },
  {
   "cell_type": "code",
   "execution_count": null,
   "id": "cfee6305-233b-45b3-a620-f9dda2bed505",
   "metadata": {},
   "outputs": [],
   "source": [
    "valence_ts = []\n",
    "for i in range(np.shape(retrieved_array)[0]):\n",
    "    dict = retrieved_array[i,0]\n",
    "    ts = retrieved_array[i,1]\n",
    "\n",
    "    if dict is not None and 'valence' in dict:\n",
    "        valence = dict['valence']\n",
    "        date = datetime.strptime(ts, '%Y-%m-%dT%H:%M:%SZ')\n",
    "        \n",
    "        valence_ts.append([valence, date])\n",
    "        \n",
    "        \n",
    "valence_ts = np.array(valence_ts)\n",
    "print(np.shape(valence_ts))"
   ]
  },
  {
   "cell_type": "code",
   "execution_count": null,
   "id": "ea4483e2-db84-4b06-92fd-cf2feeeec460",
   "metadata": {},
   "outputs": [],
   "source": []
  },
  {
   "cell_type": "code",
   "execution_count": null,
   "id": "2f169c58-8315-458f-976c-287ed22e0e64",
   "metadata": {},
   "outputs": [],
   "source": []
  },
  {
   "cell_type": "code",
   "execution_count": null,
   "id": "75d01fea-442d-4aa0-aa27-3992b9717ba5",
   "metadata": {},
   "outputs": [],
   "source": []
  },
  {
   "cell_type": "code",
   "execution_count": null,
   "id": "e3fe0298-70a6-4454-938c-84d8877da1cd",
   "metadata": {},
   "outputs": [],
   "source": []
  }
 ],
 "metadata": {
  "kernelspec": {
   "display_name": "Python 3 (ipykernel)",
   "language": "python",
   "name": "python3"
  },
  "language_info": {
   "codemirror_mode": {
    "name": "ipython",
    "version": 3
   },
   "file_extension": ".py",
   "mimetype": "text/x-python",
   "name": "python",
   "nbconvert_exporter": "python",
   "pygments_lexer": "ipython3",
   "version": "3.10.13"
  }
 },
 "nbformat": 4,
 "nbformat_minor": 5
}
